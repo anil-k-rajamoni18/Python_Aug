{
 "cells": [
  {
   "cell_type": "markdown",
   "id": "02b1c405",
   "metadata": {},
   "source": [
    "\n",
    "\n",
    "\n",
    "### Print function \n",
    "\n",
    "- It is used to print the information or objects data to the console \n",
    "\n",
    "syntax:\n",
    "\n",
    "\n",
    "**print(value, ..., sep=' ', end='\\n', file=sys.stdout, flush=False)**\n",
    "\n",
    "\n",
    "attributes :\n",
    " - sep= ' '\n",
    " - end = '\\n'\n",
    " - file = sys.stdout\n",
    " - flush = False"
   ]
  },
  {
   "cell_type": "code",
   "execution_count": null,
   "id": "b0584ce8",
   "metadata": {},
   "outputs": [],
   "source": []
  },
  {
   "cell_type": "code",
   "execution_count": null,
   "id": "6ed819ae",
   "metadata": {},
   "outputs": [],
   "source": []
  },
  {
   "cell_type": "code",
   "execution_count": null,
   "id": "714991df",
   "metadata": {},
   "outputs": [],
   "source": []
  },
  {
   "cell_type": "code",
   "execution_count": null,
   "id": "540d41de",
   "metadata": {},
   "outputs": [],
   "source": []
  },
  {
   "cell_type": "code",
   "execution_count": null,
   "id": "d0846b1a",
   "metadata": {},
   "outputs": [],
   "source": []
  },
  {
   "cell_type": "code",
   "execution_count": null,
   "id": "df59b1e3",
   "metadata": {},
   "outputs": [],
   "source": []
  }
 ],
 "metadata": {
  "kernelspec": {
   "display_name": "Python 3 (ipykernel)",
   "language": "python",
   "name": "python3"
  },
  "language_info": {
   "codemirror_mode": {
    "name": "ipython",
    "version": 3
   },
   "file_extension": ".py",
   "mimetype": "text/x-python",
   "name": "python",
   "nbconvert_exporter": "python",
   "pygments_lexer": "ipython3",
   "version": "3.9.7"
  }
 },
 "nbformat": 4,
 "nbformat_minor": 5
}
